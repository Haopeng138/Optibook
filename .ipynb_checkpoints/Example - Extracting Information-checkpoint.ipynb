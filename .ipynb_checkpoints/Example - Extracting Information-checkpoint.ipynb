{
 "cells": [
  {
   "cell_type": "code",
   "execution_count": 1,
   "id": "4a286f97-41e0-4eb2-b6bf-0a5d5a5142dd",
   "metadata": {},
   "outputs": [
    {
     "name": "stdout",
     "output_type": "stream",
     "text": [
      "Setup was successful.\n"
     ]
    }
   ],
   "source": [
    "from optibook.synchronous_client import Exchange\n",
    "\n",
    "import time\n",
    "import logging\n",
    "logger = logging.getLogger('client')\n",
    "logger.setLevel('ERROR')\n",
    "\n",
    "print(\"Setup was successful.\")"
   ]
  },
  {
   "cell_type": "code",
   "execution_count": 2,
   "id": "53b7d862-d18a-48c5-b2e9-4ad75b75b130",
   "metadata": {},
   "outputs": [
    {
     "name": "stderr",
     "output_type": "stream",
     "text": [
      "2022-08-08 14:05:59,000 [asyncio   ] [MainThread  ] Using selector: EpollSelector\n"
     ]
    }
   ],
   "source": [
    "exchange = Exchange()\n",
    "_ = exchange.connect()"
   ]
  },
  {
   "cell_type": "markdown",
   "id": "c66e3558-e632-40b0-bb5d-cc30a9f6f79b",
   "metadata": {},
   "source": [
    "# Instrument Details"
   ]
  },
  {
   "cell_type": "code",
   "execution_count": 3,
   "id": "95968ea8-b3a1-4e1e-ac59-45372427f1b4",
   "metadata": {},
   "outputs": [
    {
     "data": {
      "text/plain": [
       "{'MKT3': Instrument(instrument_id=MKT3, tick_size=0.1, instrument_type=InstrumentType.STOCK, ...),\n",
       " 'MKT2': Instrument(instrument_id=MKT2, tick_size=0.1, instrument_type=InstrumentType.STOCK, ...),\n",
       " 'MKT1': Instrument(instrument_id=MKT1, tick_size=0.1, instrument_type=InstrumentType.STOCK, ...),\n",
       " 'TEST': Instrument(instrument_id=TEST, tick_size=0.1, instrument_type=InstrumentType.STOCK, ...),\n",
       " 'DEMO': Instrument(instrument_id=DEMO, tick_size=0.1, instrument_type=InstrumentType.STOCK, ...)}"
      ]
     },
     "execution_count": 3,
     "metadata": {},
     "output_type": "execute_result"
    }
   ],
   "source": [
    "# Load all instruments (products) available on the exchange\n",
    "instruments = exchange.get_instruments()\n",
    "instruments"
   ]
  },
  {
   "cell_type": "code",
   "execution_count": 4,
   "id": "9bff8319-f0f6-48d8-96f1-3001d199d646",
   "metadata": {},
   "outputs": [
    {
     "name": "stdout",
     "output_type": "stream",
     "text": [
      "Instrument(instrument_id=DEMO, tick_size=0.1, instrument_type=InstrumentType.STOCK, ...)\n"
     ]
    }
   ],
   "source": [
    "# The returned type of exchange.get_instruments() is a dictionary, select a single instrument\n",
    "instrument = instruments['DEMO']\n",
    "print(instrument)"
   ]
  },
  {
   "cell_type": "code",
   "execution_count": 5,
   "id": "70ee383c-3b57-41f1-bf5b-2078d8a425a0",
   "metadata": {},
   "outputs": [
    {
     "name": "stdout",
     "output_type": "stream",
     "text": [
      "DEMO\n",
      "InstrumentType.STOCK\n",
      "0.1\n",
      "None\n",
      "None\n",
      "None\n",
      "None\n"
     ]
    }
   ],
   "source": [
    "# From any instruments we can get a lot of data:\n",
    "print(instrument.instrument_id)\n",
    "print(instrument.instrument_type)\n",
    "print(instrument.tick_size)\n",
    "\n",
    "# For particular types of instruments, additional fields are populated (such as e.g. the option expiry, strike and kind, or the future expiry)\n",
    "# For a STOCK those fields are equal to None\n",
    "print(instrument.expiry)\n",
    "\n",
    "print(instrument.option_kind)\n",
    "print(instrument.strike)\n",
    "print(instrument.base_instrument_id)"
   ]
  },
  {
   "cell_type": "code",
   "execution_count": 6,
   "id": "83aafb83-deb2-4ca7-a206-7a1e051ddbae",
   "metadata": {},
   "outputs": [
    {
     "name": "stdout",
     "output_type": "stream",
     "text": [
      "It is a STOCK.\n"
     ]
    }
   ],
   "source": [
    "# The InstrumentType is an Enum (enumerable) type, that means its value is one of a few supported categories.\n",
    "# We can use this Enum to compare which specific type of Instrument we are dealing with.\n",
    "\n",
    "# First import the InstrumentType enum (we would normally do this at the top of the file)\n",
    "from optibook.common_types import InstrumentType\n",
    "\n",
    "# Then make a comparison as such:\n",
    "if instrument.instrument_type == InstrumentType.STOCK:\n",
    "    print('It is a STOCK.')\n",
    "elif instrument.instrument_type == InstrumentType.STOCK_OPTION:\n",
    "    print('It is a STOCK_OPTION.')\n",
    "elif instrument.instrument_type == InstrumentType.STOCK_FUTURE:\n",
    "    print('It is a STOCK_FUTURE.')\n",
    "else:\n",
    "    print(f'It was another instrument_type: {instrument.instrument_type}.')"
   ]
  },
  {
   "cell_type": "markdown",
   "id": "551fab32-52b7-4da2-8279-7eed66a7cbf6",
   "metadata": {},
   "source": [
    "# Order Book"
   ]
  },
  {
   "cell_type": "code",
   "execution_count": 7,
   "id": "4b1f1122-b20a-47e1-b3ea-be015a18364e",
   "metadata": {},
   "outputs": [
    {
     "data": {
      "text/plain": [
       "PriceBook(DEMO 2022-08-08 14:06:03.405511)\n",
       " #bids | price | #asks \n",
       "       |  87.4 |  500  \n",
       "       |  87.2 |  250  \n",
       "  250  |  86.8 |       \n",
       "  500  |  86.6 |       "
      ]
     },
     "execution_count": 7,
     "metadata": {},
     "output_type": "execute_result"
    }
   ],
   "source": [
    "# The exchange.get_last_price_book() method returns a large compound datatype storing bids and offers, with price and volumes, and a timestamp. \n",
    "book = exchange.get_last_price_book('DEMO')\n",
    "book"
   ]
  },
  {
   "cell_type": "code",
   "execution_count": 8,
   "id": "5569f5f2-7878-432c-88c3-5b73fffe5d8c",
   "metadata": {},
   "outputs": [
    {
     "data": {
      "text/plain": [
       "[PriceVolume(price=86.80000000000001, volume=250),\n",
       " PriceVolume(price=86.60000000000001, volume=500)]"
      ]
     },
     "execution_count": 8,
     "metadata": {},
     "output_type": "execute_result"
    }
   ],
   "source": [
    "# How do we take it apart? First, extract one side of the order book, the bids, say\n",
    "bids = book.bids\n",
    "bids"
   ]
  },
  {
   "cell_type": "code",
   "execution_count": 9,
   "id": "b1322407-adb5-47b9-8e43-ee4e27e53658",
   "metadata": {},
   "outputs": [
    {
     "data": {
      "text/plain": [
       "PriceVolume(price=86.80000000000001, volume=250)"
      ]
     },
     "execution_count": 9,
     "metadata": {},
     "output_type": "execute_result"
    }
   ],
   "source": [
    "# That's a list of PriceVolume combinations, which makes sense, one line of the order book is always a price with corresponding volume and we have multiple such orders\n",
    "# Let's find the most competitive order, which is always the first entry in the list\n",
    "best_bid = bids[0]\n",
    "best_bid"
   ]
  },
  {
   "cell_type": "code",
   "execution_count": 10,
   "id": "4959a672-f0f8-42a5-a7bc-241a7be17e04",
   "metadata": {},
   "outputs": [
    {
     "name": "stdout",
     "output_type": "stream",
     "text": [
      "86.80000000000001\n",
      "250\n"
     ]
    }
   ],
   "source": [
    "# That's still a compound of price and volume, we can simply select which one we want to see to finally end up with a numeric type\n",
    "print(best_bid.price)\n",
    "print(best_bid.volume)"
   ]
  },
  {
   "cell_type": "code",
   "execution_count": 11,
   "id": "f1a43550-c6a3-41c7-9e5c-ca314a1e3913",
   "metadata": {},
   "outputs": [
    {
     "data": {
      "text/plain": [
       "86.80000000000001"
      ]
     },
     "execution_count": 11,
     "metadata": {},
     "output_type": "execute_result"
    }
   ],
   "source": [
    "# Putting it all together we can also write this. \n",
    "book.bids[0].price"
   ]
  },
  {
   "cell_type": "code",
   "execution_count": 12,
   "id": "662db5f2-bdb2-4af0-8c7f-6f419f19217b",
   "metadata": {},
   "outputs": [
    {
     "name": "stdout",
     "output_type": "stream",
     "text": [
      "86.80000000000001\n"
     ]
    }
   ],
   "source": [
    "# Note you will see an error on the above line if there are no bids at all available (the list will have no entry 0)\n",
    "# Better is to check first\n",
    "if book.bids:\n",
    "    print(book.bids[0].price)\n",
    "else:\n",
    "    print('No bids in the order book at all.')"
   ]
  },
  {
   "cell_type": "markdown",
   "id": "73257893-be48-4b08-8fd7-21308354bf55",
   "metadata": {},
   "source": [
    "# TradeTicks"
   ]
  },
  {
   "cell_type": "code",
   "execution_count": 17,
   "id": "929a7ee3-98f4-4a93-aabc-f1a523772f36",
   "metadata": {},
   "outputs": [
    {
     "name": "stdout",
     "output_type": "stream",
     "text": [
      "7\n"
     ]
    },
    {
     "data": {
      "text/plain": [
       "[TradeTick(timestamp=2022-08-08 14:06:11.432547, instrument_id=DEMO, price=86.60000000000001, volume=100, aggressor_side=ask, buyer=, seller=, trade_id=372),\n",
       " TradeTick(timestamp=2022-08-08 14:06:14.495518, instrument_id=DEMO, price=86.60000000000001, volume=100, aggressor_side=ask, buyer=, seller=, trade_id=373),\n",
       " TradeTick(timestamp=2022-08-08 14:06:20.624340, instrument_id=DEMO, price=86.4, volume=100, aggressor_side=ask, buyer=, seller=, trade_id=374),\n",
       " TradeTick(timestamp=2022-08-08 14:06:29.820112, instrument_id=DEMO, price=86.4, volume=100, aggressor_side=ask, buyer=, seller=, trade_id=375),\n",
       " TradeTick(timestamp=2022-08-08 14:06:32.883561, instrument_id=DEMO, price=86.60000000000001, volume=100, aggressor_side=bid, buyer=, seller=, trade_id=376)]"
      ]
     },
     "execution_count": 17,
     "metadata": {},
     "output_type": "execute_result"
    }
   ],
   "source": [
    "# We can load the tradetick history from the exchange (since we connected), returning a list of TradeTick types\n",
    "tradeticks = exchange.get_trade_tick_history('DEMO')\n",
    "\n",
    "# That list might be quite long:\n",
    "print(len(tradeticks))\n",
    "\n",
    "# So let's print only the last 5:\n",
    "last_tradeticks = tradeticks[-5:]\n",
    "last_tradeticks"
   ]
  },
  {
   "cell_type": "code",
   "execution_count": 18,
   "id": "05d2c948-b54a-47d3-ad84-a816854ad502",
   "metadata": {},
   "outputs": [
    {
     "name": "stdout",
     "output_type": "stream",
     "text": [
      "2022-08-08 14:06:32.883561\n",
      "DEMO\n",
      "86.60000000000001\n",
      "100\n"
     ]
    }
   ],
   "source": [
    "# We can extract information of each indidividual tradetick by obtaining a specific TradeTick as an entry in the list:\n",
    "last_tradetick = tradeticks[-1]\n",
    "print(last_tradetick.timestamp)\n",
    "print(last_tradetick.instrument_id)\n",
    "print(last_tradetick.price)\n",
    "print(last_tradetick.volume)"
   ]
  },
  {
   "cell_type": "code",
   "execution_count": 19,
   "id": "66d5b0ff-9449-475a-92ae-7389ff6ee557",
   "metadata": {},
   "outputs": [
    {
     "name": "stdout",
     "output_type": "stream",
     "text": [
      "86.62857142857145\n"
     ]
    }
   ],
   "source": [
    "# Let's say we wanted to calculate the average price of all tradeticks, we could use a loop for that\n",
    "sum_of_prices = 0.0\n",
    "for tradetick in tradeticks:\n",
    "    sum_of_prices += tradetick.price\n",
    "    \n",
    "average_price = sum_of_prices / len(tradeticks)\n",
    "print(average_price)"
   ]
  },
  {
   "cell_type": "markdown",
   "id": "fa5375d7-81b6-4be8-8159-0737da4c65d1",
   "metadata": {},
   "source": [
    "# Figuring out more"
   ]
  },
  {
   "cell_type": "code",
   "execution_count": 20,
   "id": "b9f277d2-0a85-4847-a313-176dd9fa383e",
   "metadata": {},
   "outputs": [
    {
     "name": "stdout",
     "output_type": "stream",
     "text": [
      "Help on method get_positions_and_cash in module optibook.synchronous_client:\n",
      "\n",
      "get_positions_and_cash() -> Dict[str, Dict] method of optibook.synchronous_client.Exchange instance\n",
      "    Get your current positions and cash.\n",
      "    \n",
      "    Returns\n",
      "    -------\n",
      "    typing.Dict[str, typing.Dict]\n",
      "        Returns a dictionary mapping instrument_id to dictionary of 'volume' and 'cash'. The volume is the\n",
      "        current amount of lots held in the instrument and the cash is the current cash position arising from\n",
      "        previous buy and sell trades in the instrument.\n",
      "\n"
     ]
    }
   ],
   "source": [
    "# We can load the documentation of any function via the help()-function\n",
    "# This is also all available in a nice overview on https://{your-course}.optibook.net/docs?page=optibook\n",
    "help(exchange.get_positions_and_cash)"
   ]
  },
  {
   "cell_type": "code",
   "execution_count": 21,
   "id": "ca511565-eff7-4e01-8d4b-cc2b6c226dfb",
   "metadata": {},
   "outputs": [
    {
     "data": {
      "text/plain": [
       "{'DEMO': {'volume': 0, 'cash': 0.0},\n",
       " 'TEST': {'volume': 0, 'cash': 0.0},\n",
       " 'MKT1': {'volume': 0, 'cash': 0.0},\n",
       " 'MKT2': {'volume': 0, 'cash': 0.0},\n",
       " 'MKT3': {'volume': 0, 'cash': 0.0}}"
      ]
     },
     "execution_count": 21,
     "metadata": {},
     "output_type": "execute_result"
    }
   ],
   "source": [
    "# Note the returned value desribed at the bottom of the function-documentation; indeed we see nested dictionaries as described\n",
    "positions_and_cash = exchange.get_positions_and_cash()\n",
    "positions_and_cash"
   ]
  },
  {
   "cell_type": "code",
   "execution_count": 22,
   "id": "e18ccb7a-6e76-4999-b806-55313ea430f9",
   "metadata": {},
   "outputs": [
    {
     "name": "stdout",
     "output_type": "stream",
     "text": [
      "Help on class InstrumentType in module optibook.common_types:\n",
      "\n",
      "class InstrumentType(enum.Enum)\n",
      " |  An enumeration.\n",
      " |  \n",
      " |  Method resolution order:\n",
      " |      InstrumentType\n",
      " |      enum.Enum\n",
      " |      builtins.object\n",
      " |  \n",
      " |  Data and other attributes defined here:\n",
      " |  \n",
      " |  INDEX_FUTURE = <InstrumentType.INDEX_FUTURE: 6>\n",
      " |  \n",
      " |  INDEX_OPTION = <InstrumentType.INDEX_OPTION: 5>\n",
      " |  \n",
      " |  INDEX_TRACKING_ETF = <InstrumentType.INDEX_TRACKING_ETF: 4>\n",
      " |  \n",
      " |  STOCK = <InstrumentType.STOCK: 1>\n",
      " |  \n",
      " |  STOCK_FUTURE = <InstrumentType.STOCK_FUTURE: 3>\n",
      " |  \n",
      " |  STOCK_OPTION = <InstrumentType.STOCK_OPTION: 2>\n",
      " |  \n",
      " |  ----------------------------------------------------------------------\n",
      " |  Data descriptors inherited from enum.Enum:\n",
      " |  \n",
      " |  name\n",
      " |      The name of the Enum member.\n",
      " |  \n",
      " |  value\n",
      " |      The value of the Enum member.\n",
      " |  \n",
      " |  ----------------------------------------------------------------------\n",
      " |  Data descriptors inherited from enum.EnumMeta:\n",
      " |  \n",
      " |  __members__\n",
      " |      Returns a mapping of member name->value.\n",
      " |      \n",
      " |      This mapping lists all enum members, including aliases. Note that this\n",
      " |      is a read-only view of the internal mapping.\n",
      "\n"
     ]
    }
   ],
   "source": [
    "# For the other functions and data types, similar documentation is available:\n",
    "help(InstrumentType)"
   ]
  },
  {
   "cell_type": "code",
   "execution_count": 23,
   "id": "21646810-acdc-43f4-8e79-862e40530b37",
   "metadata": {},
   "outputs": [
    {
     "name": "stdout",
     "output_type": "stream",
     "text": [
      "Help on method insert_order in module optibook.synchronous_client:\n",
      "\n",
      "insert_order(instrument_id:str, *, price:float, volume:int, side:str, order_type:str='limit') -> int method of optibook.synchronous_client.Exchange instance\n",
      "    Insert a limit or IOC order on an instrument.\n",
      "    \n",
      "    Parameters\n",
      "    ----------\n",
      "    instrument_id: str\n",
      "        The instrument_id of the instrument to insert the order on.\n",
      "    price: float\n",
      "        The (limit) price of the order.\n",
      "    volume: int\n",
      "        The number of lots in the order.\n",
      "    side: str\n",
      "        'bid' or 'ask', a bid order is an order to buy while an ask order is an order to sell.\n",
      "    order_type: str\n",
      "        'limit' or 'ioc', limit orders stay in the book while any remaining volume of an IOC that is not immediately\n",
      "        matched is cancelled.\n",
      "    \n",
      "    Returns\n",
      "    -------\n",
      "    int\n",
      "        An order_id which can be used to e.g. delete or amend the limit order later.\n",
      "\n"
     ]
    }
   ],
   "source": [
    "help(exchange.insert_order)"
   ]
  },
  {
   "cell_type": "code",
   "execution_count": 24,
   "id": "d376a1c7-7c29-4a00-8957-131347315d32",
   "metadata": {},
   "outputs": [
    {
     "name": "stdout",
     "output_type": "stream",
     "text": [
      "Help on method get_instruments in module optibook.synchronous_client:\n",
      "\n",
      "get_instruments() -> Dict[str, optibook.common_types.Instrument] method of optibook.synchronous_client.Exchange instance\n",
      "    Returns all existing instruments on the exchange\n",
      "    \n",
      "    Returns\n",
      "    -------\n",
      "    typing.Dict[str, Instrument]\n",
      "        Dict of instrument_id to the instrument definition.\n",
      "\n"
     ]
    }
   ],
   "source": [
    "help(exchange.get_instruments)"
   ]
  },
  {
   "cell_type": "code",
   "execution_count": null,
   "id": "263d4269-f4e1-46eb-b4f2-c6ccf9c1d2a4",
   "metadata": {},
   "outputs": [],
   "source": []
  }
 ],
 "metadata": {
  "kernelspec": {
   "display_name": "Python 3",
   "language": "python",
   "name": "python3"
  },
  "language_info": {
   "codemirror_mode": {
    "name": "ipython",
    "version": 3
   },
   "file_extension": ".py",
   "mimetype": "text/x-python",
   "name": "python",
   "nbconvert_exporter": "python",
   "pygments_lexer": "ipython3",
   "version": "3.6.12"
  }
 },
 "nbformat": 4,
 "nbformat_minor": 5
}

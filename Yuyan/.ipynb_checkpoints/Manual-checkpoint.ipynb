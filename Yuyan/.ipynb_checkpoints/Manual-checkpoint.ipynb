{
 "cells": [
  {
   "cell_type": "markdown",
   "id": "93acf2f5-b609-454f-9f2c-6bcb30177087",
   "metadata": {},
   "source": [
    "# Setup"
   ]
  },
  {
   "cell_type": "code",
   "execution_count": 1,
   "id": "d8747b3f-8905-4336-9c4a-54744a8f40ba",
   "metadata": {},
   "outputs": [
    {
     "name": "stdout",
     "output_type": "stream",
     "text": [
      "Setup was successful.\n"
     ]
    }
   ],
   "source": [
    "from optibook.synchronous_client import Exchange\n",
    "\n",
    "import time\n",
    "import logging\n",
    "logger = logging.getLogger('client')\n",
    "logger.setLevel('ERROR')\n",
    "\n",
    "print(\"Setup was successful.\")"
   ]
  },
  {
   "cell_type": "markdown",
   "id": "9ddb57ce-ac0e-4c06-b163-762452401011",
   "metadata": {},
   "source": [
    "# Connecting to the Exchange"
   ]
  },
  {
   "cell_type": "code",
   "execution_count": 2,
   "id": "13dc8598-1e49-487c-ad39-3784eb7f7fa7",
   "metadata": {},
   "outputs": [
    {
     "name": "stderr",
     "output_type": "stream",
     "text": [
      "2023-05-12 23:07:34,629 [asyncio   ] [MainThread  ] Using selector: EpollSelector\n"
     ]
    }
   ],
   "source": [
    "exchange = Exchange()\n",
    "_ = exchange.connect()"
   ]
  },
  {
   "cell_type": "markdown",
   "id": "a403468f-0c55-48b1-834f-b806b34d3453",
   "metadata": {},
   "source": [
    "# Getting market information"
   ]
  },
  {
   "cell_type": "code",
   "execution_count": 3,
   "id": "a5bcb60e-8db1-458d-a7c9-cf17cc24bf3b",
   "metadata": {},
   "outputs": [
    {
     "data": {
      "text/plain": [
       "{'C2_WIND_LTD': Instrument(instrument_id=C2_WIND_LTD, tick_size=0.1, price_change_limit=PriceChangeLimit(absolute_change=5.0000, relative_change=10.00%), instrument_type=InstrumentType.STOCK, paused=False),\n",
       " 'C2_SOLAR_CO': Instrument(instrument_id=C2_SOLAR_CO, tick_size=0.1, price_change_limit=PriceChangeLimit(absolute_change=5.0000, relative_change=10.00%), instrument_type=InstrumentType.STOCK, paused=False),\n",
       " 'C2_GREEN_ENERGY_ETF': Instrument(instrument_id=C2_GREEN_ENERGY_ETF, tick_size=0.1, price_change_limit=PriceChangeLimit(absolute_change=5.0000, relative_change=10.00%), instrument_type=InstrumentType.STOCK, paused=False),\n",
       " 'C1_FOSSIL_FUEL_ETF': Instrument(instrument_id=C1_FOSSIL_FUEL_ETF, tick_size=0.1, price_change_limit=PriceChangeLimit(absolute_change=5.0000, relative_change=10.00%), instrument_type=InstrumentType.STOCK, paused=False),\n",
       " 'C1_OIL_CORP': Instrument(instrument_id=C1_OIL_CORP, tick_size=0.1, price_change_limit=PriceChangeLimit(absolute_change=5.0000, relative_change=10.00%), instrument_type=InstrumentType.STOCK, paused=False),\n",
       " 'C1_GAS_INC': Instrument(instrument_id=C1_GAS_INC, tick_size=0.1, price_change_limit=PriceChangeLimit(absolute_change=5.0000, relative_change=10.00%), instrument_type=InstrumentType.STOCK, paused=False)}"
      ]
     },
     "execution_count": 3,
     "metadata": {},
     "output_type": "execute_result"
    }
   ],
   "source": [
    "# Load all instruments (products) available on the exchange\n",
    "instruments = exchange.get_instruments()\n",
    "instruments"
   ]
  },
  {
   "cell_type": "code",
   "execution_count": 4,
   "id": "f1367f99-f94c-4554-9a26-6d79f13c10a6",
   "metadata": {},
   "outputs": [],
   "source": [
    "# Define a variable storing the instrument_id of the product we are interested in\n",
    "instrument_id = 'DEMO'"
   ]
  },
  {
   "cell_type": "markdown",
   "id": "b7285ae2-e965-47b5-bbc1-1faed44fdba5",
   "metadata": {},
   "source": [
    "### Order Book"
   ]
  },
  {
   "cell_type": "code",
   "execution_count": 5,
   "id": "ceec3a13-2e1f-4413-8b3b-3bbeb023e85a",
   "metadata": {},
   "outputs": [],
   "source": [
    "# Load current limit order book for the instrument\n",
    "exchange.get_last_price_book(instrument_id)"
   ]
  },
  {
   "cell_type": "markdown",
   "id": "9274cb67-b70b-43d3-9071-06f8de8a4c16",
   "metadata": {},
   "source": [
    "### Public tradeticks"
   ]
  },
  {
   "cell_type": "code",
   "execution_count": 6,
   "id": "5eef657b-3e85-4bd4-aafc-06dad3a3ae5b",
   "metadata": {},
   "outputs": [
    {
     "data": {
      "text/plain": [
       "[]"
      ]
     },
     "execution_count": 6,
     "metadata": {},
     "output_type": "execute_result"
    }
   ],
   "source": [
    "# Load and store a list of all public tradeticks since the instantiation of the Exchange (upto a max limit)\n",
    "# These are trades between any participant, you may or may not have participated in these\n",
    "trade_tick_history = exchange.get_trade_tick_history(instrument_id)\n",
    "\n",
    "# Display last 5\n",
    "trade_tick_history[-5:]"
   ]
  },
  {
   "cell_type": "code",
   "execution_count": 7,
   "id": "99f5730b-b23c-4adf-a88f-c1394ab03aa0",
   "metadata": {},
   "outputs": [
    {
     "data": {
      "text/plain": [
       "[]"
      ]
     },
     "execution_count": 7,
     "metadata": {},
     "output_type": "execute_result"
    }
   ],
   "source": [
    "# Poll all public tradeticks since the last time this method was called\n",
    "exchange.poll_new_trade_ticks(instrument_id)"
   ]
  },
  {
   "cell_type": "markdown",
   "id": "5419b543-5cc1-4bb0-9df2-af7684ccd0b1",
   "metadata": {},
   "source": [
    "### Private trades"
   ]
  },
  {
   "cell_type": "code",
   "execution_count": 8,
   "id": "5dd35c7d-c2b0-48d7-93a8-0efeebb8b093",
   "metadata": {},
   "outputs": [
    {
     "data": {
      "text/plain": [
       "[]"
      ]
     },
     "execution_count": 8,
     "metadata": {},
     "output_type": "execute_result"
    }
   ],
   "source": [
    "# Load and store a list of all private trades you participated in since the instantiation of the Exchange (upto a max limit)\n",
    "trade_history = exchange.get_trade_history(instrument_id)\n",
    "\n",
    "# Display last 5\n",
    "trade_history[-5:]"
   ]
  },
  {
   "cell_type": "code",
   "execution_count": 9,
   "id": "905cbd32-379b-4a01-aa63-7550b61fde58",
   "metadata": {},
   "outputs": [
    {
     "data": {
      "text/plain": [
       "[]"
      ]
     },
     "execution_count": 9,
     "metadata": {},
     "output_type": "execute_result"
    }
   ],
   "source": [
    "# Poll all private trades since the last time this method was called\n",
    "exchange.poll_new_trades(instrument_id)"
   ]
  },
  {
   "cell_type": "markdown",
   "id": "6ee74134-f310-41e8-9de0-aabe458c91f1",
   "metadata": {},
   "source": [
    "### Position & PnL"
   ]
  },
  {
   "cell_type": "code",
   "execution_count": 10,
   "id": "5785926a-331b-4e43-ad16-6489430fdc43",
   "metadata": {},
   "outputs": [
    {
     "data": {
      "text/plain": [
       "{'C1_GAS_INC': 0,\n",
       " 'C1_OIL_CORP': 0,\n",
       " 'C1_FOSSIL_FUEL_ETF': 0,\n",
       " 'C2_GREEN_ENERGY_ETF': 0,\n",
       " 'C2_SOLAR_CO': 0,\n",
       " 'C2_WIND_LTD': 0}"
      ]
     },
     "execution_count": 10,
     "metadata": {},
     "output_type": "execute_result"
    }
   ],
   "source": [
    "# Load current positions in all instruments\n",
    "exchange.get_positions()"
   ]
  },
  {
   "cell_type": "code",
   "execution_count": 11,
   "id": "1016a928-4f7b-4c00-bb5b-4f5ed830ccc7",
   "metadata": {},
   "outputs": [
    {
     "data": {
      "text/plain": [
       "{'C1_GAS_INC': {'volume': 0, 'cash': 0.0},\n",
       " 'C1_OIL_CORP': {'volume': 0, 'cash': 0.0},\n",
       " 'C1_FOSSIL_FUEL_ETF': {'volume': 0, 'cash': 0.0},\n",
       " 'C2_GREEN_ENERGY_ETF': {'volume': 0, 'cash': 0.0},\n",
       " 'C2_SOLAR_CO': {'volume': 0, 'cash': 0.0},\n",
       " 'C2_WIND_LTD': {'volume': 0, 'cash': 0.0}}"
      ]
     },
     "execution_count": 11,
     "metadata": {},
     "output_type": "execute_result"
    }
   ],
   "source": [
    "# Load current positions in all instruments, including cash component (how much did we invest or gain by trading each instrument)\n",
    "exchange.get_positions_and_cash()"
   ]
  },
  {
   "cell_type": "code",
   "execution_count": 12,
   "id": "1b9f95bf-d847-47de-bff7-3bb68188409b",
   "metadata": {},
   "outputs": [
    {
     "data": {
      "text/plain": [
       "0.0"
      ]
     },
     "execution_count": 12,
     "metadata": {},
     "output_type": "execute_result"
    }
   ],
   "source": [
    "# Current PnL: sum of all cash components and value of the positions (evaluated against last-traded price) \n",
    "exchange.get_pnl()"
   ]
  },
  {
   "cell_type": "markdown",
   "id": "3a322fbd-e1e3-4e8a-b5a2-8387b7062c44",
   "metadata": {},
   "source": [
    "# Orders"
   ]
  },
  {
   "cell_type": "markdown",
   "id": "ec396b72-70c6-4cf1-8412-4368f6aa9a4c",
   "metadata": {},
   "source": [
    "### Inserting"
   ]
  },
  {
   "cell_type": "code",
   "execution_count": 13,
   "id": "ac9dcb15-b55b-4500-a516-2a4e918397e7",
   "metadata": {},
   "outputs": [
    {
     "name": "stderr",
     "output_type": "stream",
     "text": [
      "2023-05-12 23:08:08,182 [client    ] [Thread-4    ] Forcing a disconnect due to an error: /home/ubuntu/optibook/libs/server/server.h:221: failed: expected it != mInsts.end(); Instrument does not exist\n",
      "stack: 556656a5ab43 556656a92cca 556656aaf28b 556656aaf34a 556656ac7d99 556656acf8c6 556656b47991 556656ba338a 556656b46296 556656b4b462 556656b47234 556656b4df82 556656a4ea95 556656a4d699 7f04d45880b2 556656a4dd4d.\n"
     ]
    },
    {
     "ename": "KjException",
     "evalue": "(remote):0: failed: remote exception: expected it != mInsts.end(); Instrument does not exist\nstack: 7f7e0bbe6cc0 7f7e0bbe5540 7f7e0bb696d6 7f7e0bb57612 7f7e0bb57749 7f7e0bb4cc74 7f7e0bab5639 7f7e0bb2e673 7f7e25f8fcc0 7f7e25effe4e 7f7e18a64cba 7f7e18a66293 7f7e25eef0a2 7f7e25f8be68 7f7e25f95569 7f7e25f95992 7f7e25f8a2c6 7f7e25f95569 7f7e25f95992 7f7e25f8a2c6 7f7e25f95569 7f7e25f95992 7f7e25f8a2c6 7f7e25f95569 7f7e25f95992 7f7e25f8a2c6 7f7e25f96b01 7f7e25eef31d 7f7e25eef421 7f7e25eef0a2 7f7e25f8be68 7f7e25f95569",
     "output_type": "error",
     "traceback": [
      "\u001b[0;31m---------------------------------------------------------------------------\u001b[0m",
      "\u001b[0;31mKjException\u001b[0m                               Traceback (most recent call last)",
      "\u001b[0;32m<ipython-input-13-7d01291c415e>\u001b[0m in \u001b[0;36m<module>\u001b[0;34m\u001b[0m\n\u001b[1;32m      1\u001b[0m \u001b[0;31m# Insert bid LIMIT order - this trades against any current orders, and any remainders become new resting orders in the book\u001b[0m\u001b[0;34m\u001b[0m\u001b[0;34m\u001b[0m\u001b[0;34m\u001b[0m\u001b[0m\n\u001b[1;32m      2\u001b[0m \u001b[0;31m# The returned value is a 'InsertOrderResponse' which, if successfull, contains the order_id of the order\u001b[0m\u001b[0;34m\u001b[0m\u001b[0;34m\u001b[0m\u001b[0;34m\u001b[0m\u001b[0m\n\u001b[0;32m----> 3\u001b[0;31m \u001b[0mexchange\u001b[0m\u001b[0;34m.\u001b[0m\u001b[0minsert_order\u001b[0m\u001b[0;34m(\u001b[0m\u001b[0minstrument_id\u001b[0m\u001b[0;34m,\u001b[0m \u001b[0mprice\u001b[0m\u001b[0;34m=\u001b[0m\u001b[0;36m10\u001b[0m\u001b[0;34m,\u001b[0m \u001b[0mvolume\u001b[0m\u001b[0;34m=\u001b[0m\u001b[0;36m5\u001b[0m\u001b[0;34m,\u001b[0m \u001b[0mside\u001b[0m\u001b[0;34m=\u001b[0m\u001b[0;34m'bid'\u001b[0m\u001b[0;34m,\u001b[0m \u001b[0morder_type\u001b[0m\u001b[0;34m=\u001b[0m\u001b[0;34m'limit'\u001b[0m\u001b[0;34m)\u001b[0m\u001b[0;34m\u001b[0m\u001b[0;34m\u001b[0m\u001b[0m\n\u001b[0m",
      "\u001b[0;32m/usr/local/lib/python3.6/site-packages/optibook/synchronous_client.py\u001b[0m in \u001b[0;36minsert_order\u001b[0;34m(self, instrument_id, price, volume, side, order_type)\u001b[0m\n\u001b[1;32m    119\u001b[0m \u001b[0;34m\u001b[0m\u001b[0m\n\u001b[1;32m    120\u001b[0m         return self._wrapper.run_on_loop(\n\u001b[0;32m--> 121\u001b[0;31m             \u001b[0mself\u001b[0m\u001b[0;34m.\u001b[0m\u001b[0m_e\u001b[0m\u001b[0;34m.\u001b[0m\u001b[0minsert_order\u001b[0m\u001b[0;34m(\u001b[0m\u001b[0minstrument_id\u001b[0m\u001b[0;34m=\u001b[0m\u001b[0minstrument_id\u001b[0m\u001b[0;34m,\u001b[0m \u001b[0mprice\u001b[0m\u001b[0;34m=\u001b[0m\u001b[0mprice\u001b[0m\u001b[0;34m,\u001b[0m \u001b[0mvolume\u001b[0m\u001b[0;34m=\u001b[0m\u001b[0mvolume\u001b[0m\u001b[0;34m,\u001b[0m \u001b[0mside\u001b[0m\u001b[0;34m=\u001b[0m\u001b[0mside\u001b[0m\u001b[0;34m,\u001b[0m \u001b[0morder_type\u001b[0m\u001b[0;34m=\u001b[0m\u001b[0morder_type\u001b[0m\u001b[0;34m)\u001b[0m\u001b[0;34m\u001b[0m\u001b[0;34m\u001b[0m\u001b[0m\n\u001b[0m\u001b[1;32m    122\u001b[0m         )\n\u001b[1;32m    123\u001b[0m \u001b[0;34m\u001b[0m\u001b[0m\n",
      "\u001b[0;32m/usr/local/lib/python3.6/site-packages/optibook/synchronous_wrapper.py\u001b[0m in \u001b[0;36mrun_on_loop\u001b[0;34m(self, awaitable)\u001b[0m\n\u001b[1;32m     80\u001b[0m             \u001b[0mself\u001b[0m\u001b[0;34m.\u001b[0m\u001b[0mdisconnect\u001b[0m\u001b[0;34m(\u001b[0m\u001b[0;34m)\u001b[0m\u001b[0;34m\u001b[0m\u001b[0;34m\u001b[0m\u001b[0m\n\u001b[1;32m     81\u001b[0m \u001b[0;34m\u001b[0m\u001b[0m\n\u001b[0;32m---> 82\u001b[0;31m         \u001b[0mret\u001b[0m \u001b[0;34m=\u001b[0m \u001b[0mfut\u001b[0m\u001b[0;34m.\u001b[0m\u001b[0mresult\u001b[0m\u001b[0;34m(\u001b[0m\u001b[0;34m)\u001b[0m\u001b[0;34m\u001b[0m\u001b[0;34m\u001b[0m\u001b[0m\n\u001b[0m\u001b[1;32m     83\u001b[0m         \u001b[0mend_time\u001b[0m \u001b[0;34m=\u001b[0m \u001b[0mdatetime\u001b[0m\u001b[0;34m.\u001b[0m\u001b[0mdatetime\u001b[0m\u001b[0;34m.\u001b[0m\u001b[0mnow\u001b[0m\u001b[0;34m(\u001b[0m\u001b[0;34m)\u001b[0m\u001b[0;34m\u001b[0m\u001b[0;34m\u001b[0m\u001b[0m\n\u001b[1;32m     84\u001b[0m         \u001b[0mdiff\u001b[0m \u001b[0;34m=\u001b[0m \u001b[0mend_time\u001b[0m \u001b[0;34m-\u001b[0m \u001b[0mstart_time\u001b[0m\u001b[0;34m\u001b[0m\u001b[0;34m\u001b[0m\u001b[0m\n",
      "\u001b[0;32m/usr/lib64/python3.6/concurrent/futures/_base.py\u001b[0m in \u001b[0;36mresult\u001b[0;34m(self, timeout)\u001b[0m\n\u001b[1;32m    423\u001b[0m                 \u001b[0;32mraise\u001b[0m \u001b[0mCancelledError\u001b[0m\u001b[0;34m(\u001b[0m\u001b[0;34m)\u001b[0m\u001b[0;34m\u001b[0m\u001b[0;34m\u001b[0m\u001b[0m\n\u001b[1;32m    424\u001b[0m             \u001b[0;32melif\u001b[0m \u001b[0mself\u001b[0m\u001b[0;34m.\u001b[0m\u001b[0m_state\u001b[0m \u001b[0;34m==\u001b[0m \u001b[0mFINISHED\u001b[0m\u001b[0;34m:\u001b[0m\u001b[0;34m\u001b[0m\u001b[0;34m\u001b[0m\u001b[0m\n\u001b[0;32m--> 425\u001b[0;31m                 \u001b[0;32mreturn\u001b[0m \u001b[0mself\u001b[0m\u001b[0;34m.\u001b[0m\u001b[0m__get_result\u001b[0m\u001b[0;34m(\u001b[0m\u001b[0;34m)\u001b[0m\u001b[0;34m\u001b[0m\u001b[0;34m\u001b[0m\u001b[0m\n\u001b[0m\u001b[1;32m    426\u001b[0m \u001b[0;34m\u001b[0m\u001b[0m\n\u001b[1;32m    427\u001b[0m             \u001b[0mself\u001b[0m\u001b[0;34m.\u001b[0m\u001b[0m_condition\u001b[0m\u001b[0;34m.\u001b[0m\u001b[0mwait\u001b[0m\u001b[0;34m(\u001b[0m\u001b[0mtimeout\u001b[0m\u001b[0;34m)\u001b[0m\u001b[0;34m\u001b[0m\u001b[0;34m\u001b[0m\u001b[0m\n",
      "\u001b[0;32m/usr/lib64/python3.6/concurrent/futures/_base.py\u001b[0m in \u001b[0;36m__get_result\u001b[0;34m(self)\u001b[0m\n\u001b[1;32m    382\u001b[0m     \u001b[0;32mdef\u001b[0m \u001b[0m__get_result\u001b[0m\u001b[0;34m(\u001b[0m\u001b[0mself\u001b[0m\u001b[0;34m)\u001b[0m\u001b[0;34m:\u001b[0m\u001b[0;34m\u001b[0m\u001b[0;34m\u001b[0m\u001b[0m\n\u001b[1;32m    383\u001b[0m         \u001b[0;32mif\u001b[0m \u001b[0mself\u001b[0m\u001b[0;34m.\u001b[0m\u001b[0m_exception\u001b[0m\u001b[0;34m:\u001b[0m\u001b[0;34m\u001b[0m\u001b[0;34m\u001b[0m\u001b[0m\n\u001b[0;32m--> 384\u001b[0;31m             \u001b[0;32mraise\u001b[0m \u001b[0mself\u001b[0m\u001b[0;34m.\u001b[0m\u001b[0m_exception\u001b[0m\u001b[0;34m\u001b[0m\u001b[0;34m\u001b[0m\u001b[0m\n\u001b[0m\u001b[1;32m    385\u001b[0m         \u001b[0;32melse\u001b[0m\u001b[0;34m:\u001b[0m\u001b[0;34m\u001b[0m\u001b[0;34m\u001b[0m\u001b[0m\n\u001b[1;32m    386\u001b[0m             \u001b[0;32mreturn\u001b[0m \u001b[0mself\u001b[0m\u001b[0;34m.\u001b[0m\u001b[0m_result\u001b[0m\u001b[0;34m\u001b[0m\u001b[0;34m\u001b[0m\u001b[0m\n",
      "\u001b[0;32m/usr/local/lib/python3.6/site-packages/optibook/exchange_client.py\u001b[0m in \u001b[0;36minsert_order\u001b[0;34m(self, instrument_id, price, volume, side, order_type)\u001b[0m\n\u001b[1;32m    301\u001b[0m         \u001b[0;32massert\u001b[0m \u001b[0mside\u001b[0m \u001b[0;32min\u001b[0m \u001b[0mALL_SIDES\u001b[0m\u001b[0;34m,\u001b[0m \u001b[0;34mf\"side must be one of {ALL_SIDES}\"\u001b[0m\u001b[0;34m\u001b[0m\u001b[0;34m\u001b[0m\u001b[0m\n\u001b[1;32m    302\u001b[0m         \u001b[0;32massert\u001b[0m \u001b[0morder_type\u001b[0m \u001b[0;32min\u001b[0m \u001b[0mALL_ORDER_TYPES\u001b[0m\u001b[0;34m,\u001b[0m \u001b[0;34mf\"order_type must be one of {ALL_ORDER_TYPES}\"\u001b[0m\u001b[0;34m\u001b[0m\u001b[0;34m\u001b[0m\u001b[0m\n\u001b[0;32m--> 303\u001b[0;31m         \u001b[0mresult\u001b[0m \u001b[0;34m=\u001b[0m \u001b[0mawait\u001b[0m \u001b[0mself\u001b[0m\u001b[0;34m.\u001b[0m\u001b[0m_exec\u001b[0m\u001b[0;34m.\u001b[0m\u001b[0minsertOrder\u001b[0m\u001b[0;34m(\u001b[0m\u001b[0minstrument_id\u001b[0m\u001b[0;34m,\u001b[0m \u001b[0mprice\u001b[0m\u001b[0;34m,\u001b[0m \u001b[0mvolume\u001b[0m\u001b[0;34m,\u001b[0m \u001b[0mside\u001b[0m\u001b[0;34m,\u001b[0m \u001b[0morder_type\u001b[0m\u001b[0;34m)\u001b[0m\u001b[0;34m.\u001b[0m\u001b[0ma_wait\u001b[0m\u001b[0;34m(\u001b[0m\u001b[0;34m)\u001b[0m\u001b[0;34m\u001b[0m\u001b[0;34m\u001b[0m\u001b[0m\n\u001b[0m\u001b[1;32m    304\u001b[0m         \u001b[0;32mif\u001b[0m \u001b[0;32mnot\u001b[0m \u001b[0mresult\u001b[0m\u001b[0;34m.\u001b[0m\u001b[0msuccess\u001b[0m\u001b[0;34m:\u001b[0m\u001b[0;34m\u001b[0m\u001b[0;34m\u001b[0m\u001b[0m\n\u001b[1;32m    305\u001b[0m             \u001b[0mlogger\u001b[0m\u001b[0;34m.\u001b[0m\u001b[0mwarning\u001b[0m\u001b[0;34m(\u001b[0m\u001b[0;34mf'order insert failed with reason: {result.errorReason}'\u001b[0m\u001b[0;34m)\u001b[0m\u001b[0;34m\u001b[0m\u001b[0;34m\u001b[0m\u001b[0m\n",
      "\u001b[0;32m/usr/local/lib64/python3.6/site-packages/capnp/lib/capnp.pyx\u001b[0m in \u001b[0;36ma_wait\u001b[0;34m()\u001b[0m\n",
      "\u001b[0;31mKjException\u001b[0m: (remote):0: failed: remote exception: expected it != mInsts.end(); Instrument does not exist\nstack: 7f7e0bbe6cc0 7f7e0bbe5540 7f7e0bb696d6 7f7e0bb57612 7f7e0bb57749 7f7e0bb4cc74 7f7e0bab5639 7f7e0bb2e673 7f7e25f8fcc0 7f7e25effe4e 7f7e18a64cba 7f7e18a66293 7f7e25eef0a2 7f7e25f8be68 7f7e25f95569 7f7e25f95992 7f7e25f8a2c6 7f7e25f95569 7f7e25f95992 7f7e25f8a2c6 7f7e25f95569 7f7e25f95992 7f7e25f8a2c6 7f7e25f95569 7f7e25f95992 7f7e25f8a2c6 7f7e25f96b01 7f7e25eef31d 7f7e25eef421 7f7e25eef0a2 7f7e25f8be68 7f7e25f95569"
     ]
    }
   ],
   "source": [
    "# Insert bid LIMIT order - this trades against any current orders, and any remainders become new resting orders in the book\n",
    "# The returned value is a 'InsertOrderResponse' which, if successfull, contains the order_id of the order\n",
    "exchange.insert_order(instrument_id, price=10, volume=5, side='bid', order_type='limit')"
   ]
  },
  {
   "cell_type": "code",
   "execution_count": null,
   "id": "cdf2c01e-4de7-4b5d-bad7-f72c3f67dc93",
   "metadata": {},
   "outputs": [],
   "source": [
    "# Insert ask LIMIT order - this trades against any current orders, and any remainders become new resting orders in the book\n",
    "exchange.insert_order(instrument_id, price=20, volume=5, side='ask', order_type='limit')"
   ]
  },
  {
   "cell_type": "code",
   "execution_count": 14,
   "id": "a85e2846-51b2-426f-b5da-f189502a1a44",
   "metadata": {},
   "outputs": [
    {
     "ename": "AssertionError",
     "evalue": "Cannot call function until connected. Call connect() first",
     "output_type": "error",
     "traceback": [
      "\u001b[0;31m---------------------------------------------------------------------------\u001b[0m",
      "\u001b[0;31mAssertionError\u001b[0m                            Traceback (most recent call last)",
      "\u001b[0;32m<ipython-input-14-abea9b02b42f>\u001b[0m in \u001b[0;36m<module>\u001b[0;34m\u001b[0m\n\u001b[1;32m      1\u001b[0m \u001b[0;31m# Insert bid IOC order - this order trades against any resting volume which has an equal or better price, but does not remain in the\u001b[0m\u001b[0;34m\u001b[0m\u001b[0;34m\u001b[0m\u001b[0;34m\u001b[0m\u001b[0m\n\u001b[1;32m      2\u001b[0m \u001b[0;31m# book if any volume is unfilled\u001b[0m\u001b[0;34m\u001b[0m\u001b[0;34m\u001b[0m\u001b[0;34m\u001b[0m\u001b[0m\n\u001b[0;32m----> 3\u001b[0;31m \u001b[0mexchange\u001b[0m\u001b[0;34m.\u001b[0m\u001b[0minsert_order\u001b[0m\u001b[0;34m(\u001b[0m\u001b[0minstrument_id\u001b[0m\u001b[0;34m,\u001b[0m \u001b[0mprice\u001b[0m\u001b[0;34m=\u001b[0m\u001b[0;36m10\u001b[0m\u001b[0;34m,\u001b[0m \u001b[0mvolume\u001b[0m\u001b[0;34m=\u001b[0m\u001b[0;36m5\u001b[0m\u001b[0;34m,\u001b[0m \u001b[0mside\u001b[0m\u001b[0;34m=\u001b[0m\u001b[0;34m'bid'\u001b[0m\u001b[0;34m,\u001b[0m \u001b[0morder_type\u001b[0m\u001b[0;34m=\u001b[0m\u001b[0;34m'ioc'\u001b[0m\u001b[0;34m)\u001b[0m\u001b[0;34m\u001b[0m\u001b[0;34m\u001b[0m\u001b[0m\n\u001b[0m",
      "\u001b[0;32m/usr/local/lib/python3.6/site-packages/optibook/synchronous_client.py\u001b[0m in \u001b[0;36minsert_order\u001b[0;34m(self, instrument_id, price, volume, side, order_type)\u001b[0m\n\u001b[1;32m    114\u001b[0m             \u001b[0mreason\u001b[0m \u001b[0mshould\u001b[0m \u001b[0mthe\u001b[0m \u001b[0mrequest\u001b[0m \u001b[0mhave\u001b[0m \u001b[0mfailed\u001b[0m\u001b[0;34m.\u001b[0m \u001b[0mSee\u001b[0m \u001b[0mthe\u001b[0m \u001b[0mdoc\u001b[0m \u001b[0mof\u001b[0m \u001b[0mthat\u001b[0m \u001b[0mtype\u001b[0m \u001b[0;32mfor\u001b[0m \u001b[0mmore\u001b[0m \u001b[0minfo\u001b[0m\u001b[0;34m.\u001b[0m\u001b[0;34m\u001b[0m\u001b[0;34m\u001b[0m\u001b[0m\n\u001b[1;32m    115\u001b[0m         \"\"\"\n\u001b[0;32m--> 116\u001b[0;31m         \u001b[0;32massert\u001b[0m \u001b[0mself\u001b[0m\u001b[0;34m.\u001b[0m\u001b[0mis_connected\u001b[0m\u001b[0;34m(\u001b[0m\u001b[0;34m)\u001b[0m\u001b[0;34m,\u001b[0m \u001b[0;34m\"Cannot call function until connected. Call connect() first\"\u001b[0m\u001b[0;34m\u001b[0m\u001b[0;34m\u001b[0m\u001b[0m\n\u001b[0m\u001b[1;32m    117\u001b[0m         \u001b[0;32massert\u001b[0m\u001b[0;34m(\u001b[0m\u001b[0mside\u001b[0m \u001b[0;32min\u001b[0m \u001b[0mexchange_client\u001b[0m\u001b[0;34m.\u001b[0m\u001b[0mALL_SIDES\u001b[0m\u001b[0;34m)\u001b[0m\u001b[0;34m,\u001b[0m \u001b[0;34mf\"Invalid value ({side}) for parameter 'side'. Use synchronous_client.BID or synchronous_client.ASK\"\u001b[0m\u001b[0;34m\u001b[0m\u001b[0;34m\u001b[0m\u001b[0m\n\u001b[1;32m    118\u001b[0m         \u001b[0;32massert\u001b[0m \u001b[0morder_type\u001b[0m \u001b[0;32min\u001b[0m \u001b[0mexchange_client\u001b[0m\u001b[0;34m.\u001b[0m\u001b[0mALL_ORDER_TYPES\u001b[0m\u001b[0;34m,\u001b[0m \u001b[0;34mf\"order_type must be one of {exchange_client.ALL_ORDER_TYPES}\"\u001b[0m\u001b[0;34m\u001b[0m\u001b[0;34m\u001b[0m\u001b[0m\n",
      "\u001b[0;31mAssertionError\u001b[0m: Cannot call function until connected. Call connect() first"
     ]
    }
   ],
   "source": [
    "# Insert bid IOC order - this order trades against any resting volume which has an equal or better price, but does not remain in the \n",
    "# book if any volume is unfilled\n",
    "exchange.insert_order(instrument_id, price=10, volume=5, side='bid', order_type='ioc')"
   ]
  },
  {
   "cell_type": "code",
   "execution_count": 15,
   "id": "4ce39bcc-5a61-4c86-9a89-ef2f29d0e4cf",
   "metadata": {},
   "outputs": [
    {
     "ename": "AssertionError",
     "evalue": "Cannot call function until connected. Call connect() first",
     "output_type": "error",
     "traceback": [
      "\u001b[0;31m---------------------------------------------------------------------------\u001b[0m",
      "\u001b[0;31mAssertionError\u001b[0m                            Traceback (most recent call last)",
      "\u001b[0;32m<ipython-input-15-1eed8fa4db8b>\u001b[0m in \u001b[0;36m<module>\u001b[0;34m\u001b[0m\n\u001b[1;32m      1\u001b[0m \u001b[0;31m# Insert ask IOC order - this order trades against any resting volume which has an equal or better price, but does not remain in the\u001b[0m\u001b[0;34m\u001b[0m\u001b[0;34m\u001b[0m\u001b[0;34m\u001b[0m\u001b[0m\n\u001b[1;32m      2\u001b[0m \u001b[0;31m# book if any volume is unfilled\u001b[0m\u001b[0;34m\u001b[0m\u001b[0;34m\u001b[0m\u001b[0;34m\u001b[0m\u001b[0m\n\u001b[0;32m----> 3\u001b[0;31m \u001b[0mexchange\u001b[0m\u001b[0;34m.\u001b[0m\u001b[0minsert_order\u001b[0m\u001b[0;34m(\u001b[0m\u001b[0minstrument_id\u001b[0m\u001b[0;34m,\u001b[0m \u001b[0mprice\u001b[0m\u001b[0;34m=\u001b[0m\u001b[0;36m20\u001b[0m\u001b[0;34m,\u001b[0m \u001b[0mvolume\u001b[0m\u001b[0;34m=\u001b[0m\u001b[0;36m5\u001b[0m\u001b[0;34m,\u001b[0m \u001b[0mside\u001b[0m\u001b[0;34m=\u001b[0m\u001b[0;34m'ask'\u001b[0m\u001b[0;34m,\u001b[0m \u001b[0morder_type\u001b[0m\u001b[0;34m=\u001b[0m\u001b[0;34m'ioc'\u001b[0m\u001b[0;34m)\u001b[0m\u001b[0;34m\u001b[0m\u001b[0;34m\u001b[0m\u001b[0m\n\u001b[0m",
      "\u001b[0;32m/usr/local/lib/python3.6/site-packages/optibook/synchronous_client.py\u001b[0m in \u001b[0;36minsert_order\u001b[0;34m(self, instrument_id, price, volume, side, order_type)\u001b[0m\n\u001b[1;32m    114\u001b[0m             \u001b[0mreason\u001b[0m \u001b[0mshould\u001b[0m \u001b[0mthe\u001b[0m \u001b[0mrequest\u001b[0m \u001b[0mhave\u001b[0m \u001b[0mfailed\u001b[0m\u001b[0;34m.\u001b[0m \u001b[0mSee\u001b[0m \u001b[0mthe\u001b[0m \u001b[0mdoc\u001b[0m \u001b[0mof\u001b[0m \u001b[0mthat\u001b[0m \u001b[0mtype\u001b[0m \u001b[0;32mfor\u001b[0m \u001b[0mmore\u001b[0m \u001b[0minfo\u001b[0m\u001b[0;34m.\u001b[0m\u001b[0;34m\u001b[0m\u001b[0;34m\u001b[0m\u001b[0m\n\u001b[1;32m    115\u001b[0m         \"\"\"\n\u001b[0;32m--> 116\u001b[0;31m         \u001b[0;32massert\u001b[0m \u001b[0mself\u001b[0m\u001b[0;34m.\u001b[0m\u001b[0mis_connected\u001b[0m\u001b[0;34m(\u001b[0m\u001b[0;34m)\u001b[0m\u001b[0;34m,\u001b[0m \u001b[0;34m\"Cannot call function until connected. Call connect() first\"\u001b[0m\u001b[0;34m\u001b[0m\u001b[0;34m\u001b[0m\u001b[0m\n\u001b[0m\u001b[1;32m    117\u001b[0m         \u001b[0;32massert\u001b[0m\u001b[0;34m(\u001b[0m\u001b[0mside\u001b[0m \u001b[0;32min\u001b[0m \u001b[0mexchange_client\u001b[0m\u001b[0;34m.\u001b[0m\u001b[0mALL_SIDES\u001b[0m\u001b[0;34m)\u001b[0m\u001b[0;34m,\u001b[0m \u001b[0;34mf\"Invalid value ({side}) for parameter 'side'. Use synchronous_client.BID or synchronous_client.ASK\"\u001b[0m\u001b[0;34m\u001b[0m\u001b[0;34m\u001b[0m\u001b[0m\n\u001b[1;32m    118\u001b[0m         \u001b[0;32massert\u001b[0m \u001b[0morder_type\u001b[0m \u001b[0;32min\u001b[0m \u001b[0mexchange_client\u001b[0m\u001b[0;34m.\u001b[0m\u001b[0mALL_ORDER_TYPES\u001b[0m\u001b[0;34m,\u001b[0m \u001b[0;34mf\"order_type must be one of {exchange_client.ALL_ORDER_TYPES}\"\u001b[0m\u001b[0;34m\u001b[0m\u001b[0;34m\u001b[0m\u001b[0m\n",
      "\u001b[0;31mAssertionError\u001b[0m: Cannot call function until connected. Call connect() first"
     ]
    }
   ],
   "source": [
    "# Insert ask IOC order - this order trades against any resting volume which has an equal or better price, but does not remain in the \n",
    "# book if any volume is unfilled\n",
    "exchange.insert_order(instrument_id, price=20, volume=5, side='ask', order_type='ioc')"
   ]
  },
  {
   "cell_type": "markdown",
   "id": "456c74c9-f7fa-433f-ab60-8288b452c8fd",
   "metadata": {},
   "source": [
    "### Deleting & amending"
   ]
  },
  {
   "cell_type": "code",
   "execution_count": 16,
   "id": "29dfeebc-4f88-41c6-a07b-b94a997d082c",
   "metadata": {},
   "outputs": [
    {
     "ename": "AssertionError",
     "evalue": "Cannot call function until connected. Call connect() first",
     "output_type": "error",
     "traceback": [
      "\u001b[0;31m---------------------------------------------------------------------------\u001b[0m",
      "\u001b[0;31mAssertionError\u001b[0m                            Traceback (most recent call last)",
      "\u001b[0;32m<ipython-input-16-33605d0d77e1>\u001b[0m in \u001b[0;36m<module>\u001b[0;34m\u001b[0m\n\u001b[1;32m      1\u001b[0m \u001b[0;31m# Load a list of own outstanding/resting orders\u001b[0m\u001b[0;34m\u001b[0m\u001b[0;34m\u001b[0m\u001b[0;34m\u001b[0m\u001b[0m\n\u001b[0;32m----> 2\u001b[0;31m \u001b[0mexchange\u001b[0m\u001b[0;34m.\u001b[0m\u001b[0mget_outstanding_orders\u001b[0m\u001b[0;34m(\u001b[0m\u001b[0minstrument_id\u001b[0m\u001b[0;34m)\u001b[0m\u001b[0;34m\u001b[0m\u001b[0;34m\u001b[0m\u001b[0m\n\u001b[0m",
      "\u001b[0;32m/usr/local/lib/python3.6/site-packages/optibook/synchronous_client.py\u001b[0m in \u001b[0;36mget_outstanding_orders\u001b[0;34m(self, instrument_id)\u001b[0m\n\u001b[1;32m    275\u001b[0m             \u001b[0morders\u001b[0m \u001b[0mon\u001b[0m \u001b[0man\u001b[0m \u001b[0minstrument\u001b[0m\u001b[0;34m.\u001b[0m\u001b[0;34m\u001b[0m\u001b[0;34m\u001b[0m\u001b[0m\n\u001b[1;32m    276\u001b[0m         \"\"\"\n\u001b[0;32m--> 277\u001b[0;31m         \u001b[0;32massert\u001b[0m \u001b[0mself\u001b[0m\u001b[0;34m.\u001b[0m\u001b[0mis_connected\u001b[0m\u001b[0;34m(\u001b[0m\u001b[0;34m)\u001b[0m\u001b[0;34m,\u001b[0m \u001b[0;34m\"Cannot call function until connected. Call connect() first\"\u001b[0m\u001b[0;34m\u001b[0m\u001b[0;34m\u001b[0m\u001b[0m\n\u001b[0m\u001b[1;32m    278\u001b[0m         \u001b[0;32mreturn\u001b[0m \u001b[0mself\u001b[0m\u001b[0;34m.\u001b[0m\u001b[0m_e\u001b[0m\u001b[0;34m.\u001b[0m\u001b[0mget_outstanding_orders\u001b[0m\u001b[0;34m(\u001b[0m\u001b[0minstrument_id\u001b[0m\u001b[0;34m)\u001b[0m\u001b[0;34m\u001b[0m\u001b[0;34m\u001b[0m\u001b[0m\n\u001b[1;32m    279\u001b[0m \u001b[0;34m\u001b[0m\u001b[0m\n",
      "\u001b[0;31mAssertionError\u001b[0m: Cannot call function until connected. Call connect() first"
     ]
    }
   ],
   "source": [
    "# Load a list of own outstanding/resting orders\n",
    "exchange.get_outstanding_orders(instrument_id)"
   ]
  },
  {
   "cell_type": "code",
   "execution_count": 17,
   "id": "da5df034-dc73-42d3-b0ba-c113e8a3f6f7",
   "metadata": {},
   "outputs": [
    {
     "ename": "AssertionError",
     "evalue": "Cannot call function until connected. Call connect() first",
     "output_type": "error",
     "traceback": [
      "\u001b[0;31m---------------------------------------------------------------------------\u001b[0m",
      "\u001b[0;31mAssertionError\u001b[0m                            Traceback (most recent call last)",
      "\u001b[0;32m<ipython-input-17-3344466f5f3d>\u001b[0m in \u001b[0;36m<module>\u001b[0;34m\u001b[0m\n\u001b[1;32m      1\u001b[0m \u001b[0;31m# Delete an order by order_id, the returned DeleteOrderRequest contains a boolean showing whether the delete was succesful\u001b[0m\u001b[0;34m\u001b[0m\u001b[0;34m\u001b[0m\u001b[0;34m\u001b[0m\u001b[0m\n\u001b[0;32m----> 2\u001b[0;31m \u001b[0mexchange\u001b[0m\u001b[0;34m.\u001b[0m\u001b[0mdelete_order\u001b[0m\u001b[0;34m(\u001b[0m\u001b[0minstrument_id\u001b[0m\u001b[0;34m,\u001b[0m \u001b[0morder_id\u001b[0m\u001b[0;34m=\u001b[0m\u001b[0;36m1234\u001b[0m\u001b[0;34m)\u001b[0m\u001b[0;34m\u001b[0m\u001b[0;34m\u001b[0m\u001b[0m\n\u001b[0m",
      "\u001b[0;32m/usr/local/lib/python3.6/site-packages/optibook/synchronous_client.py\u001b[0m in \u001b[0;36mdelete_order\u001b[0;34m(self, instrument_id, order_id)\u001b[0m\n\u001b[1;32m    164\u001b[0m             \u001b[0mshould\u001b[0m \u001b[0mthe\u001b[0m \u001b[0mrequest\u001b[0m \u001b[0mhave\u001b[0m \u001b[0mfailed\u001b[0m\u001b[0;34m.\u001b[0m \u001b[0mSee\u001b[0m \u001b[0mthe\u001b[0m \u001b[0mdoc\u001b[0m \u001b[0mof\u001b[0m \u001b[0mthat\u001b[0m \u001b[0mtype\u001b[0m \u001b[0;32mfor\u001b[0m \u001b[0mmore\u001b[0m \u001b[0minfo\u001b[0m\u001b[0;34m.\u001b[0m\u001b[0;34m\u001b[0m\u001b[0;34m\u001b[0m\u001b[0m\n\u001b[1;32m    165\u001b[0m         \"\"\"\n\u001b[0;32m--> 166\u001b[0;31m         \u001b[0;32massert\u001b[0m \u001b[0mself\u001b[0m\u001b[0;34m.\u001b[0m\u001b[0mis_connected\u001b[0m\u001b[0;34m(\u001b[0m\u001b[0;34m)\u001b[0m\u001b[0;34m,\u001b[0m \u001b[0;34m\"Cannot call function until connected. Call connect() first\"\u001b[0m\u001b[0;34m\u001b[0m\u001b[0;34m\u001b[0m\u001b[0m\n\u001b[0m\u001b[1;32m    167\u001b[0m \u001b[0;34m\u001b[0m\u001b[0m\n\u001b[1;32m    168\u001b[0m         return self._wrapper.run_on_loop(\n",
      "\u001b[0;31mAssertionError\u001b[0m: Cannot call function until connected. Call connect() first"
     ]
    }
   ],
   "source": [
    "# Delete an order by order_id, the returned DeleteOrderRequest contains a boolean showing whether the delete was succesful\n",
    "exchange.delete_order(instrument_id, order_id=1234)"
   ]
  },
  {
   "cell_type": "code",
   "execution_count": 18,
   "id": "cca548dd-9f1b-4e1b-99c4-04efbd4d289a",
   "metadata": {},
   "outputs": [
    {
     "ename": "AssertionError",
     "evalue": "Cannot call function until connected. Call connect() first",
     "output_type": "error",
     "traceback": [
      "\u001b[0;31m---------------------------------------------------------------------------\u001b[0m",
      "\u001b[0;31mAssertionError\u001b[0m                            Traceback (most recent call last)",
      "\u001b[0;32m<ipython-input-18-a130b72ea1a1>\u001b[0m in \u001b[0;36m<module>\u001b[0;34m\u001b[0m\n\u001b[1;32m      1\u001b[0m \u001b[0;31m# Delete all outstanding orders for an instrument\u001b[0m\u001b[0;34m\u001b[0m\u001b[0;34m\u001b[0m\u001b[0;34m\u001b[0m\u001b[0m\n\u001b[0;32m----> 2\u001b[0;31m \u001b[0mexchange\u001b[0m\u001b[0;34m.\u001b[0m\u001b[0mdelete_orders\u001b[0m\u001b[0;34m(\u001b[0m\u001b[0minstrument_id\u001b[0m\u001b[0;34m)\u001b[0m\u001b[0;34m\u001b[0m\u001b[0;34m\u001b[0m\u001b[0m\n\u001b[0m",
      "\u001b[0;32m/usr/local/lib/python3.6/site-packages/optibook/synchronous_client.py\u001b[0m in \u001b[0;36mdelete_orders\u001b[0;34m(self, instrument_id)\u001b[0m\n\u001b[1;32m    179\u001b[0m             \u001b[0mThe\u001b[0m \u001b[0minstrument_id\u001b[0m \u001b[0mof\u001b[0m \u001b[0mthe\u001b[0m \u001b[0minstrument\u001b[0m \u001b[0mto\u001b[0m \u001b[0mdelete\u001b[0m \u001b[0mthe\u001b[0m \u001b[0morders\u001b[0m \u001b[0;32mfor\u001b[0m\u001b[0;34m.\u001b[0m\u001b[0;34m\u001b[0m\u001b[0;34m\u001b[0m\u001b[0m\n\u001b[1;32m    180\u001b[0m         \"\"\"\n\u001b[0;32m--> 181\u001b[0;31m         \u001b[0;32massert\u001b[0m \u001b[0mself\u001b[0m\u001b[0;34m.\u001b[0m\u001b[0mis_connected\u001b[0m\u001b[0;34m(\u001b[0m\u001b[0;34m)\u001b[0m\u001b[0;34m,\u001b[0m \u001b[0;34m\"Cannot call function until connected. Call connect() first\"\u001b[0m\u001b[0;34m\u001b[0m\u001b[0;34m\u001b[0m\u001b[0m\n\u001b[0m\u001b[1;32m    182\u001b[0m \u001b[0;34m\u001b[0m\u001b[0m\n\u001b[1;32m    183\u001b[0m         return self._wrapper.run_on_loop(\n",
      "\u001b[0;31mAssertionError\u001b[0m: Cannot call function until connected. Call connect() first"
     ]
    }
   ],
   "source": [
    "# Delete all outstanding orders for an instrument\n",
    "exchange.delete_orders(instrument_id)"
   ]
  },
  {
   "cell_type": "code",
   "execution_count": null,
   "id": "c2b9a407-ab66-49a2-a389-9a79c9819d25",
   "metadata": {},
   "outputs": [],
   "source": [
    "# Change (amend) the volume of an existing resting order by order_id, the returned AmendOrderResponse contains a boolean showing whether the amend was succesful\n",
    "exchange.amend_order(instrument_id, order_id=1234, volume=30)"
   ]
  },
  {
   "cell_type": "markdown",
   "id": "ddebfb30-9fae-4ca8-9834-500558435dfb",
   "metadata": {},
   "source": [
    "# Code Snippets"
   ]
  },
  {
   "cell_type": "markdown",
   "id": "f42a856e-6bff-40a7-ba1f-9596cff5914f",
   "metadata": {},
   "source": [
    "Combining a few of the exchange interactions above, we can write a code snippet to aggressively trade out of all currently held positions using IOC orders. \n",
    "\n",
    "That means selling all products you are long, and buying back all you are short. \n",
    "\n",
    "This is useful for starting with a clean slate, but doing so will come at a potentially large cost. \n",
    "\n",
    "You are not guaranteed to end up with a zero position afterwards, only that volume which is also available to trade in the market will be bought/sold."
   ]
  },
  {
   "cell_type": "code",
   "execution_count": null,
   "id": "556b6ad0-c62a-4324-9638-b9357676fecf",
   "metadata": {},
   "outputs": [],
   "source": [
    "MIN_SELLING_PRICE = 0.10\n",
    "MAX_BUYING_PRICE = 100000.00\n",
    "\n",
    "positions = exchange.get_positions()\n",
    "pnl = exchange.get_pnl()\n",
    "\n",
    "print(f'Positions before: {positions}')\n",
    "print(f'\\nPnL before: {pnl:.2f}')\n",
    "\n",
    "print(f'\\nTrading out of positions')\n",
    "for iid, pos in positions.items():\n",
    "    if pos > 0:\n",
    "        print(f'-- Inserting sell order for {pos} lots of {iid}, with limit price {MIN_SELLING_PRICE:.2f}')\n",
    "        exchange.insert_order(iid, price=MIN_SELLING_PRICE, volume=pos, side='ask', order_type='ioc')\n",
    "    elif pos < 0:\n",
    "        print(f'-- Inserting buy order for {abs(pos)} lots of {iid}, with limit price {MAX_BUYING_PRICE:.2f}')\n",
    "        exchange.insert_order(iid, price=MAX_BUYING_PRICE, volume=-pos, side='bid', order_type='ioc')\n",
    "    else:\n",
    "        print(f'-- No initial position in {iid}, skipping..')\n",
    "    \n",
    "    time.sleep(0.10)\n",
    "\n",
    "time.sleep(1.0)\n",
    "\n",
    "positions = exchange.get_positions()\n",
    "pnl = exchange.get_pnl()\n",
    "print(f'\\nPositions after: {positions}')\n",
    "print(f'\\nPnL after: {pnl:.2f}')"
   ]
  },
  {
   "cell_type": "code",
   "execution_count": null,
   "id": "2a98c3de-c0e3-4a43-adf6-9879ce22b50a",
   "metadata": {},
   "outputs": [],
   "source": []
  }
 ],
 "metadata": {
  "kernelspec": {
   "display_name": "Python 3",
   "language": "python",
   "name": "python3"
  },
  "language_info": {
   "codemirror_mode": {
    "name": "ipython",
    "version": 3
   },
   "file_extension": ".py",
   "mimetype": "text/x-python",
   "name": "python",
   "nbconvert_exporter": "python",
   "pygments_lexer": "ipython3",
   "version": "3.6.12"
  }
 },
 "nbformat": 4,
 "nbformat_minor": 5
}
